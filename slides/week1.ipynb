{
 "cells": [
  {
   "cell_type": "markdown",
   "metadata": {
    "slideshow": {
     "slide_type": "slide"
    }
   },
   "source": [
    "<p style=\"text-align: center; font-size: 300%\"> Computational Finance </p>\n",
    "<img src=\"img/ABSlogo.svg\" alt=\"LOGO\" style=\"display:block; margin-left: auto; margin-right: auto; width: 50%;\">"
   ]
  },
  {
   "cell_type": "markdown",
   "metadata": {
    "slideshow": {
     "slide_type": "slide"
    }
   },
   "source": [
    "# Preliminaries\n",
    "\n",
    "## General Information\n",
    "\n",
    "* My name is Simon Broda. You can find me at REC E4.27 (by appointment). Email: [s.a.broda@uva.nl](mailto:s.a.broda@uva.nl)\n",
    "* Slides, code, etc. will be made available through [Blackboard](https://blackboard.uva.nl) and/or https://github.com/s-broda/ComputationalFinance.\n",
    "* Format of this course: 12 lectures of 2h each (2 per week).\n",
    "* Final grade based on a digital exam (65%, 3h, open book) and homework assignments (35%, groups of 2)."
   ]
  },
  {
   "cell_type": "markdown",
   "metadata": {
    "slideshow": {
     "slide_type": "slide"
    }
   },
   "source": [
    "## Material\n",
    "### Books\n",
    "\n",
    "* Yves Hilpisch. Python for Finance: Analyze Big Financial Data. O’Reilly, 2014. ISBN 978-1-4919-4528-5 (603 pages, c. EUR 31).\n",
    "* Yves Hilpisch. Derivatives Analytics with Python: Data Analysis, Models, Simulation, Calibration and Hedging. John Wiley & Sons, 2015. ISBN 978-1-1190-3799-6 (376 pages, c. EUR 75).\n",
    "\n",
    "### Other Useful Resources\n",
    "* Python documentation: https://docs.python.org/2/index.html"
   ]
  },
  {
   "cell_type": "markdown",
   "metadata": {
    "slideshow": {
     "slide_type": "slide"
    }
   },
   "source": [
    "## Reading List\n",
    "\n",
    "* Week 1: PfF, Chapters 1, 2, and 4.\n",
    "* Week 2:\n",
    "* Week 3:\n",
    "* Week 4:\n",
    "* Week 5:\n",
    "* Week 6:"
   ]
  },
  {
   "cell_type": "markdown",
   "metadata": {
    "collapsed": true,
    "slideshow": {
     "slide_type": "slide"
    }
   },
   "source": [
    "# Introduction to Python\n",
    "## Why Python?\n",
    "* General purpose programming language, unlike, e.g., Matlab.\n",
    "* High-level language with simple syntax, interactive (*REPL*: read-eval-print loop). Hence ideal for rapid development.\n",
    "* Vast array of libraries available, including for scientific computing and finance.\n",
    "* Native Python is usually slower than compiled languages like C. Alleviated by highly optimized libraries, e.g. NumPy for calculations with arrays.\n",
    "* Free and open source software. Cross-platform.\n",
    "* Python skills are a marketable asset: most popular language for data science."
   ]
  },
  {
   "cell_type": "markdown",
   "metadata": {
    "slideshow": {
     "slide_type": "slide"
    }
   },
   "source": [
    "### Job Postings on Indeed.com\n",
    "<img src=\"img/trends0.png\" alt=\"Job Postings on Indeed.com\" style=\"display:block; margin-left: auto; margin-right: auto; width: 70%;\"/>\n",
    "[Source](https://www.ibm.com/developerworks/community/blogs/jfp/entry/What_Language_Is_Best_For_Machine_Learning_And_Data_Science?lang=en)"
   ]
  },
  {
   "cell_type": "markdown",
   "metadata": {
    "slideshow": {
     "slide_type": "slide"
    }
   },
   "source": [
    "## Obtaining Python\n",
    "* Anaconda is a Python distribution, developed by Continuum Analytics, and specifically designed for scientific computing.\n",
    "* Comes with its own package manager (conda). Many important packages (the *SciPy stack*) are pre-installed. \n",
    "* Two versions: Python 2.7 and 3.6. Like the book, we will be using Python 2.7, which is still the industry standard.\n",
    "* Obtain it from https://www.anaconda.com/download/. I recommend adding it to your PATH upon installation.\n",
    "* *Optional*: install RISE plugin: <tt> conda install -c damianavila82 rise <tt>"
   ]
  },
  {
   "cell_type": "markdown",
   "metadata": {
    "slideshow": {
     "slide_type": "slide"
    }
   },
   "source": [
    "## IPython Shell\n",
    "* Python features a *read-eval-print loop* (REPL) which allows you to interact with it.\n",
    "* The most bare-bones way to interact with it is via the *IPython shell*:\n",
    "<img src=\"img/ipython.png\" alt=\"IPython Shell\" style=\"display:block; margin-left: auto; margin-right: auto;width: 50%;\"/>\n",
    "* For now you can treat it like a fancy calculater. Try entering `2+2`. Use `quit()` or `exit()` to quit, `help()` for Python's interactive help."
   ]
  },
  {
   "cell_type": "markdown",
   "metadata": {
    "slideshow": {
     "slide_type": "slide"
    }
   },
   "source": [
    "## Writing Python Programs\n",
    "* Apart from using it interactively, we can also write Python programs so we can rerun the code later.\n",
    "* A Python program (called a *script* or a *module*) is just a text file, typically with the file extension <tt>.py</tt>.\n",
    "* Contains Python commands and comments (introduced by the `#` character)\n",
    "* To execute a program, do `run filename.py` in IPython (you may need to navigate to the right directory by using the `cd` command). \n",
    "* While it's possible to code Python using just the REPL and a text editor, many people prefer to use an *integrated development environment* (IDE)\n",
    "* Anaconda comes with an IDE called *Spyder* (Scientific PYthon Development EnviRonment), which integrates an editor, an IPython shell, and other useful tools."
   ]
  },
  {
   "cell_type": "markdown",
   "metadata": {
    "slideshow": {
     "slide_type": "slide"
    }
   },
   "source": [
    "<img src=\"img/spyder.png\" alt=\"Spyder IDE\" style=\"display:block; margin-left: auto; margin-right: auto;width: 90%;\"/>\n"
   ]
  },
  {
   "cell_type": "markdown",
   "metadata": {
    "slideshow": {
     "slide_type": "slide"
    }
   },
   "source": [
    "## Jupyter Notebooks\n",
    "* Another option is the *Jupyter notebook* (JUlia PYThon (e) R, formerly known as IPython notebook). \n",
    "* Web app that allows you to create documents (<tt>*.ipynb</tt>) that contain text (formatted in [Markdown](https://daringfireball.net/projects/markdown)), live code, and equations (formatted in $\\LaTeX$).\n",
    "* In fact these very slides are based on Jupyter notebooks. You can find them on my Github page: https://github.com/s-broda/ComputationalFinance\n",
    "* The slides are also available on my Microsoft Azure page (https://notebooks.azure.com/s-broda/libraries/ComputationalFinance), where you can also see them as a slide show and/or run them (after cloning them; requires a free Microsoft account).\n"
   ]
  },
  {
   "cell_type": "markdown",
   "metadata": {
    "slideshow": {
     "slide_type": "slide"
    }
   },
   "source": [
    "<img src=\"img/jupyter.png\" alt=\"A Jupyter Notebook\" style=\"display:block; margin-left: auto; margin-right: auto;width: 90%;\"/>"
   ]
  },
  {
   "cell_type": "markdown",
   "metadata": {
    "slideshow": {
     "slide_type": "slide"
    }
   },
   "source": [
    "* A notebook consists of cells, each of which is either designated as Markdown (for text and equations), or as code.\n",
    "* You should take a moment to familiarize yourself with the keyboad shortcuts. E.g., <tt>enter</tt> enters edit mode, <tt>esc</tt> enters command mode, <tt>ctrl-enter</tt> evaluates a cell, <tt>shift-enter</tt> evaluates a cell and selects the one below.\n",
    "* Useful references:\n",
    "   * [Jupyter documentation](http://jupyter-notebook.readthedocs.io/en/latest/index.html)\n",
    "   * [Markdown cheat sheet](https://github.com/adam-p/markdown-here/wiki/Markdown-Cheatsheet)\n",
    "   * [Latex math cheat sheet](https://en.wikibooks.org/wiki/LaTeX/Mathematics)"
   ]
  },
  {
   "cell_type": "markdown",
   "metadata": {
    "slideshow": {
     "slide_type": "slide"
    }
   },
   "source": [
    "# Python Basics\n",
    "## Variables\n",
    "* A variable is a named memory location. It is assigned using `=`.\n",
    "* Technically, `=` binds the name on the LHS to the result of the expression on the RHS."
   ]
  },
  {
   "cell_type": "code",
   "execution_count": 198,
   "metadata": {
    "scrolled": true
   },
   "outputs": [
    {
     "name": "stdout",
     "output_type": "stream",
     "text": [
      "3\n"
     ]
    }
   ],
   "source": [
    "a=2\n",
    "a=a+1 #bind the value a to the result of the expression a+1\n",
    "print(a)"
   ]
  },
  {
   "cell_type": "code",
   "execution_count": 199,
   "metadata": {},
   "outputs": [
    {
     "name": "stdout",
     "output_type": "stream",
     "text": [
      "4\n"
     ]
    }
   ],
   "source": [
    "a+=1 #shorthand for a=a+1\n",
    "print(a)"
   ]
  },
  {
   "cell_type": "markdown",
   "metadata": {},
   "source": [
    "* Variable names can be made up from letters, numbers and the\n",
    "underscore. They may not start with a number. Python is case-sensitive: `A` is not the same as `a`."
   ]
  },
  {
   "cell_type": "markdown",
   "metadata": {
    "slideshow": {
     "slide_type": "slide"
    }
   },
   "source": [
    "## Built-in Types\n",
    "### Numeric Types\n",
    "* Any Python object has a *type*.\n",
    "* Computers distinguish between integers and floating point numbers. They are stored differently in memory.\n",
    "* Python integers can be arbitrary large. Their memory representation will use as many bits as necessary.\n",
    "* Python floats are stored with 64 bit precision."
   ]
  },
  {
   "cell_type": "markdown",
   "metadata": {
    "slideshow": {
     "slide_type": "slide"
    }
   },
   "source": [
    "* Can use the function `type` to show the type of an object:"
   ]
  },
  {
   "cell_type": "code",
   "execution_count": 200,
   "metadata": {
    "slideshow": {
     "slide_type": "-"
    }
   },
   "outputs": [
    {
     "data": {
      "text/plain": [
       "int"
      ]
     },
     "execution_count": 200,
     "metadata": {},
     "output_type": "execute_result"
    }
   ],
   "source": [
    "type(1)"
   ]
  },
  {
   "cell_type": "code",
   "execution_count": 201,
   "metadata": {
    "slideshow": {
     "slide_type": "-"
    }
   },
   "outputs": [
    {
     "data": {
      "text/plain": [
       "float"
      ]
     },
     "execution_count": 201,
     "metadata": {},
     "output_type": "execute_result"
    }
   ],
   "source": [
    "type(1.0)"
   ]
  },
  {
   "cell_type": "markdown",
   "metadata": {},
   "source": [
    "* The basic arithmetic operations are `+`, `-`, `*`, `/`, and `**` for exponentiation:"
   ]
  },
  {
   "cell_type": "code",
   "execution_count": 202,
   "metadata": {},
   "outputs": [
    {
     "data": {
      "text/plain": [
       "8"
      ]
     },
     "execution_count": 202,
     "metadata": {},
     "output_type": "execute_result"
    }
   ],
   "source": [
    "2*(3-1)**2"
   ]
  },
  {
   "cell_type": "markdown",
   "metadata": {},
   "source": [
    "* If any of the operands is `float`, Python will convert the others to float too:"
   ]
  },
  {
   "cell_type": "code",
   "execution_count": 203,
   "metadata": {},
   "outputs": [
    {
     "data": {
      "text/plain": [
       "8.0"
      ]
     },
     "execution_count": 203,
     "metadata": {},
     "output_type": "execute_result"
    }
   ],
   "source": [
    "2*(3-1.0)**2"
   ]
  },
  {
   "cell_type": "markdown",
   "metadata": {
    "slideshow": {
     "slide_type": "slide"
    }
   },
   "source": [
    "* Note that floating point arithmetic is not exact:"
   ]
  },
  {
   "cell_type": "code",
   "execution_count": 204,
   "metadata": {},
   "outputs": [
    {
     "data": {
      "text/plain": [
       "0.09999999999999964"
      ]
     },
     "execution_count": 204,
     "metadata": {},
     "output_type": "execute_result"
    }
   ],
   "source": [
    "8.1-8.0"
   ]
  },
  {
   "cell_type": "markdown",
   "metadata": {
    "slideshow": {
     "slide_type": "-"
    }
   },
   "source": [
    "* Also, `/` performs floor division in Python 2.7 (not 3.6) when both arguments are `int`s:"
   ]
  },
  {
   "cell_type": "code",
   "execution_count": 205,
   "metadata": {},
   "outputs": [
    {
     "data": {
      "text/plain": [
       "1"
      ]
     },
     "execution_count": 205,
     "metadata": {},
     "output_type": "execute_result"
    }
   ],
   "source": [
    "c=3\n",
    "c/2"
   ]
  },
  {
   "cell_type": "markdown",
   "metadata": {},
   "source": [
    "* Need to convert one argument to float to get the usual division:"
   ]
  },
  {
   "cell_type": "code",
   "execution_count": 206,
   "metadata": {},
   "outputs": [
    {
     "data": {
      "text/plain": [
       "1.5"
      ]
     },
     "execution_count": 206,
     "metadata": {},
     "output_type": "execute_result"
    }
   ],
   "source": [
    "c/2.0"
   ]
  },
  {
   "cell_type": "code",
   "execution_count": 207,
   "metadata": {},
   "outputs": [
    {
     "data": {
      "text/plain": [
       "1.5"
      ]
     },
     "execution_count": 207,
     "metadata": {},
     "output_type": "execute_result"
    }
   ],
   "source": [
    "float(c)/2"
   ]
  },
  {
   "cell_type": "markdown",
   "metadata": {
    "slideshow": {
     "slide_type": "slide"
    }
   },
   "source": [
    "### Booleans\n",
    "* A `bool` can take one of two values: `True` or `False`.\n",
    "* They are returned by *relational operators*: `<`, `<=`, `>`, `>=`, `==` (equality), `!=` (inequality)\n",
    "* Can combine them using the *logical operators* `and`, `or`, and `not`."
   ]
  },
  {
   "cell_type": "code",
   "execution_count": 208,
   "metadata": {},
   "outputs": [
    {
     "data": {
      "text/plain": [
       "True"
      ]
     },
     "execution_count": 208,
     "metadata": {},
     "output_type": "execute_result"
    }
   ],
   "source": [
    "1<=2<4"
   ]
  },
  {
   "cell_type": "code",
   "execution_count": 209,
   "metadata": {},
   "outputs": [
    {
     "data": {
      "text/plain": [
       "False"
      ]
     },
     "execution_count": 209,
     "metadata": {},
     "output_type": "execute_result"
    }
   ],
   "source": [
    "1<2 and 2<1 "
   ]
  },
  {
   "cell_type": "code",
   "execution_count": 210,
   "metadata": {},
   "outputs": [
    {
     "data": {
      "text/plain": [
       "False"
      ]
     },
     "execution_count": 210,
     "metadata": {},
     "output_type": "execute_result"
    }
   ],
   "source": [
    "not(1<2)"
   ]
  },
  {
   "cell_type": "markdown",
   "metadata": {
    "slideshow": {
     "slide_type": "slide"
    }
   },
   "source": [
    "## Sequence types: containers with integer indexing"
   ]
  },
  {
   "cell_type": "markdown",
   "metadata": {
    "slideshow": {
     "slide_type": "-"
    }
   },
   "source": [
    "### Strings\n",
    "* Strings hold text. Constructed using either single or double quotes. "
   ]
  },
  {
   "cell_type": "code",
   "execution_count": 211,
   "metadata": {},
   "outputs": [
    {
     "data": {
      "text/plain": [
       "'Python is easy'"
      ]
     },
     "execution_count": 211,
     "metadata": {},
     "output_type": "execute_result"
    }
   ],
   "source": [
    "s1=\"Python\"; s2=' is easy'; s1+s2 #Concatenation"
   ]
  },
  {
   "cell_type": "markdown",
   "metadata": {},
   "source": [
    "* Strings can be indexed into:"
   ]
  },
  {
   "cell_type": "code",
   "execution_count": 212,
   "metadata": {},
   "outputs": [
    {
     "data": {
      "text/plain": [
       "'P'"
      ]
     },
     "execution_count": 212,
     "metadata": {},
     "output_type": "execute_result"
    }
   ],
   "source": [
    "s1[0] #Note zero-based indexing"
   ]
  },
  {
   "cell_type": "code",
   "execution_count": 213,
   "metadata": {},
   "outputs": [
    {
     "data": {
      "text/plain": [
       "'n'"
      ]
     },
     "execution_count": 213,
     "metadata": {},
     "output_type": "execute_result"
    }
   ],
   "source": [
    "s1[-1] #Negative indexes count from the right:"
   ]
  },
  {
   "cell_type": "markdown",
   "metadata": {
    "slideshow": {
     "slide_type": "slide"
    }
   },
   "source": [
    "* Can also pick out several elements (\"*slicing*\"). Works for all *sequence types* (lists, NumPy arrays, ...) "
   ]
  },
  {
   "cell_type": "code",
   "execution_count": 214,
   "metadata": {},
   "outputs": [
    {
     "data": {
      "text/plain": [
       "'Py'"
      ]
     },
     "execution_count": 214,
     "metadata": {},
     "output_type": "execute_result"
    }
   ],
   "source": [
    "s1[0:2] #Elements 0 and 1; left endpoint is included, right endpoint excluded."
   ]
  },
  {
   "cell_type": "code",
   "execution_count": 215,
   "metadata": {},
   "outputs": [
    {
     "data": {
      "text/plain": [
       "'Pto'"
      ]
     },
     "execution_count": 215,
     "metadata": {},
     "output_type": "execute_result"
    }
   ],
   "source": [
    "s1[0:6:2] #start:stop:step"
   ]
  },
  {
   "cell_type": "code",
   "execution_count": 216,
   "metadata": {},
   "outputs": [
    {
     "data": {
      "text/plain": [
       "'nohtyP'"
      ]
     },
     "execution_count": 216,
     "metadata": {},
     "output_type": "execute_result"
    }
   ],
   "source": [
    "s1[::-1] #start and stop can be ommitted; default to 0 and len(str)"
   ]
  },
  {
   "cell_type": "markdown",
   "metadata": {},
   "source": [
    "* Strings are *immutable*:"
   ]
  },
  {
   "cell_type": "code",
   "execution_count": 217,
   "metadata": {},
   "outputs": [
    {
     "name": "stdout",
     "output_type": "stream",
     "text": [
      "'str' object does not support item assignment\n"
     ]
    }
   ],
   "source": [
    "#Wrapping this in a try block so the error doesn't break `Run all` in Jupyter\n",
    "try:\n",
    "    s1[0]=\"C\" #This errors\n",
    "except TypeError as e:\n",
    "    print(e)"
   ]
  },
  {
   "cell_type": "markdown",
   "metadata": {
    "slideshow": {
     "slide_type": "slide"
    }
   },
   "source": [
    "* Simplifying slightly, a *method* is a function that operates only on objects of a specific type. The syntax is `object.method(*args)`\n",
    "* Python has many useful methods for strings:"
   ]
  },
  {
   "cell_type": "code",
   "execution_count": 218,
   "metadata": {},
   "outputs": [
    {
     "name": "stdout",
     "output_type": "stream",
     "text": [
      "capitalize, center, count, decode, encode, endswith, expandtabs, find, format, index, isalnum, isalpha, isdigit, islower, isspace, istitle, isupper, join, ljust, lower, lstrip, partition, replace, rfind, rindex, rjust, rpartition, rsplit, rstrip, split, splitlines, startswith, strip, swapcase, title, translate, upper, zfill\n"
     ]
    }
   ],
   "source": [
    "print(', '.join(filter(lambda m: callable(getattr(s1, m)) and not m.startswith(\"_\"), dir(s1))))"
   ]
  },
  {
   "cell_type": "markdown",
   "metadata": {},
   "source": [
    "* Use *tab completion* to see which methods an object supports: type `s1.` and press `Tab`."
   ]
  },
  {
   "cell_type": "code",
   "execution_count": 219,
   "metadata": {},
   "outputs": [
    {
     "name": "stdout",
     "output_type": "stream",
     "text": [
      "Help on built-in function upper:\n",
      "\n",
      "upper(...)\n",
      "    S.upper() -> string\n",
      "    \n",
      "    Return a copy of the string S converted to uppercase.\n",
      "\n"
     ]
    }
   ],
   "source": [
    "help(s1.upper)"
   ]
  },
  {
   "cell_type": "code",
   "execution_count": 220,
   "metadata": {},
   "outputs": [
    {
     "data": {
      "text/plain": [
       "'PYTHON IS HARD'"
      ]
     },
     "execution_count": 220,
     "metadata": {},
     "output_type": "execute_result"
    }
   ],
   "source": [
    "(s1+s2).replace('easy','hard').upper() #Could also have done (s1+s2).replace('easy','hard').upper()"
   ]
  },
  {
   "cell_type": "markdown",
   "metadata": {
    "slideshow": {
     "slide_type": "slide"
    }
   },
   "source": [
    "### Lists\n",
    "* Lists are indexable collections of arbitrary (though usually homogenous) things:"
   ]
  },
  {
   "cell_type": "code",
   "execution_count": 221,
   "metadata": {},
   "outputs": [
    {
     "name": "stdout",
     "output_type": "stream",
     "text": [
      "[1, 2.0, 'hi']\n"
     ]
    }
   ],
   "source": [
    "l1=[1, 2., 'hi']; print(l1)"
   ]
  },
  {
   "cell_type": "markdown",
   "metadata": {},
   "source": [
    "* Like strings, they support indexing, but unlike strings, they are *mutable*:"
   ]
  },
  {
   "cell_type": "code",
   "execution_count": 222,
   "metadata": {},
   "outputs": [
    {
     "name": "stdout",
     "output_type": "stream",
     "text": [
      "[1, 2.0, 42]\n"
     ]
    }
   ],
   "source": [
    "l1[2]=42; print(l1)"
   ]
  },
  {
   "cell_type": "markdown",
   "metadata": {
    "slideshow": {
     "slide_type": "slide"
    }
   },
   "source": [
    "* Note the following:"
   ]
  },
  {
   "cell_type": "code",
   "execution_count": 223,
   "metadata": {},
   "outputs": [
    {
     "name": "stdout",
     "output_type": "stream",
     "text": [
      "[13, 2.0, 42]\n"
     ]
    }
   ],
   "source": [
    "l2=l1 #bind the name l2 to the list l1. This does not create a copy: l2 and l1 are the _same_ object\n",
    "l2[0]=13\n",
    "print(l1)"
   ]
  },
  {
   "cell_type": "code",
   "execution_count": 224,
   "metadata": {},
   "outputs": [
    {
     "data": {
      "text/plain": [
       "True"
      ]
     },
     "execution_count": 224,
     "metadata": {},
     "output_type": "execute_result"
    }
   ],
   "source": [
    "l3=l1[:] #This creates a copy\n",
    "l3==l1 #Tests if all elements are equal"
   ]
  },
  {
   "cell_type": "code",
   "execution_count": 225,
   "metadata": {},
   "outputs": [
    {
     "data": {
      "text/plain": [
       "False"
      ]
     },
     "execution_count": 225,
     "metadata": {},
     "output_type": "execute_result"
    }
   ],
   "source": [
    "l3 is l1 #Tests if l3 and l1 refer to the same object"
   ]
  },
  {
   "cell_type": "code",
   "execution_count": 226,
   "metadata": {},
   "outputs": [
    {
     "data": {
      "text/plain": [
       "True"
      ]
     },
     "execution_count": 226,
     "metadata": {},
     "output_type": "execute_result"
    }
   ],
   "source": [
    "l2 is l1"
   ]
  },
  {
   "cell_type": "markdown",
   "metadata": {
    "slideshow": {
     "slide_type": "slide"
    }
   },
   "source": [
    "* Lists of integers can be constructed using the `range` function:"
   ]
  },
  {
   "cell_type": "code",
   "execution_count": 227,
   "metadata": {},
   "outputs": [
    {
     "data": {
      "text/plain": [
       "[1, 3, 5, 7, 9]"
      ]
     },
     "execution_count": 227,
     "metadata": {},
     "output_type": "execute_result"
    }
   ],
   "source": [
    "range(1,10,2) #start,stop,[,step]"
   ]
  },
  {
   "cell_type": "markdown",
   "metadata": {},
   "source": [
    "* *List comprehensions* allow creating lists programmatically:"
   ]
  },
  {
   "cell_type": "code",
   "execution_count": 228,
   "metadata": {},
   "outputs": [
    {
     "data": {
      "text/plain": [
       "[16, 25, 36]"
      ]
     },
     "execution_count": 228,
     "metadata": {},
     "output_type": "execute_result"
    }
   ],
   "source": [
    "[x**2 for x in range(1,10) if x>3 and x<7]"
   ]
  },
  {
   "cell_type": "markdown",
   "metadata": {},
   "source": [
    "* The `for` and `if` statements will be discussed in more detail later."
   ]
  },
  {
   "cell_type": "markdown",
   "metadata": {
    "slideshow": {
     "slide_type": "slide"
    }
   },
   "source": [
    "* Methods for lists (try `help l1.method`):"
   ]
  },
  {
   "cell_type": "code",
   "execution_count": 229,
   "metadata": {},
   "outputs": [
    {
     "name": "stdout",
     "output_type": "stream",
     "text": [
      "append, count, extend, index, insert, pop, remove, reverse, sort\n"
     ]
    }
   ],
   "source": [
    "print(', '.join(filter(lambda m: callable(getattr(l1, m)) and not m.startswith(\"_\"), dir(l1))))"
   ]
  },
  {
   "cell_type": "code",
   "execution_count": 230,
   "metadata": {},
   "outputs": [
    {
     "name": "stdout",
     "output_type": "stream",
     "text": [
      "[13, 2.0, 42, 13]\n"
     ]
    }
   ],
   "source": [
    "l1.append(13); #append 13 to the list `l1`\n",
    "print(l1)"
   ]
  },
  {
   "cell_type": "code",
   "execution_count": 231,
   "metadata": {},
   "outputs": [
    {
     "name": "stdout",
     "output_type": "stream",
     "text": [
      "[2.0, 42, 13]\n"
     ]
    }
   ],
   "source": [
    "l1.remove(13) #remove first occurence of 13 from l1\n",
    "print(l1)"
   ]
  },
  {
   "cell_type": "markdown",
   "metadata": {},
   "source": [
    "* Note: Table 4-2 in the book incorrectly states that `remove[i]` removes the element at index `i`. For that, use"
   ]
  },
  {
   "cell_type": "code",
   "execution_count": 232,
   "metadata": {},
   "outputs": [
    {
     "name": "stdout",
     "output_type": "stream",
     "text": [
      "[42, 13]\n"
     ]
    }
   ],
   "source": [
    "del(l1[0]); print(l1)"
   ]
  },
  {
   "cell_type": "markdown",
   "metadata": {},
   "source": [
    "* `del` can also be used to delete variables (technically, unbind the variable name)"
   ]
  },
  {
   "cell_type": "markdown",
   "metadata": {
    "slideshow": {
     "slide_type": "slide"
    }
   },
   "source": [
    "### xranges\n",
    "* an xrange is similar to a list created with `range`, but they are more memory efficient because the list elements are created on demand (*lazily*)."
   ]
  },
  {
   "cell_type": "code",
   "execution_count": 233,
   "metadata": {},
   "outputs": [
    {
     "data": {
      "text/plain": [
       "7"
      ]
     },
     "execution_count": 233,
     "metadata": {},
     "output_type": "execute_result"
    }
   ],
   "source": [
    "xrange(1,10,2)[3]\n"
   ]
  },
  {
   "cell_type": "markdown",
   "metadata": {},
   "source": [
    "## Other built-in datatypes\n",
    "\n",
    "* Other built-in datatypes include `tuple`s (immutable sequences), `set`s (unordered collections), and `Dict`s (collections of key-value pairs). See the PfF, pp. 92-94."
   ]
  },
  {
   "cell_type": "markdown",
   "metadata": {
    "slideshow": {
     "slide_type": "slide"
    }
   },
   "source": [
    "## NumPy Arrays\n",
    "* Broadcasting:\n",
    "* arange"
   ]
  },
  {
   "cell_type": "markdown",
   "metadata": {
    "slideshow": {
     "slide_type": "slide"
    }
   },
   "source": [
    "## Modules"
   ]
  },
  {
   "cell_type": "code",
   "execution_count": 234,
   "metadata": {
    "collapsed": true
   },
   "outputs": [],
   "source": [
    "# %load src/mymodule.py\n",
    "\"\"\"\n",
    "A simple module.\n",
    "\"\"\"\n",
    "a=2\n",
    "b=3"
   ]
  }
 ],
 "metadata": {
  "celltoolbar": "Slideshow",
  "kernelspec": {
   "display_name": "Python 2",
   "language": "python",
   "name": "python2"
  },
  "language_info": {
   "codemirror_mode": {
    "name": "ipython",
    "version": 2
   },
   "file_extension": ".py",
   "mimetype": "text/x-python",
   "name": "python",
   "nbconvert_exporter": "python",
   "pygments_lexer": "ipython2",
   "version": "2.7.13"
  },
  "livereveal": {
   "start_slideshow_at": "selected"
  }
 },
 "nbformat": 4,
 "nbformat_minor": 2
}
