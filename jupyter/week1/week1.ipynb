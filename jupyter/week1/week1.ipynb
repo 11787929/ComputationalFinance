{
 "cells": [
  {
   "cell_type": "markdown",
   "metadata": {
    "slideshow": {
     "slide_type": "slide"
    }
   },
   "source": [
    "<p style=\"text-align: center; font-size: 300%\"> Computational Finance </p>\n",
    "<img src=\"ABSlogo.png\" alt=\"LOGO\" style=\"display:block; margin-left: auto; margin-right: auto; width: 500px;\">"
   ]
  },
  {
   "cell_type": "markdown",
   "metadata": {
    "slideshow": {
     "slide_type": "slide"
    }
   },
   "source": [
    "# Preliminaries\n",
    "\n",
    "## General Information\n",
    "\n",
    "* My name is Simon Broda. You can find me at REC E4.27 (by appointment). Email: [s.a.broda@uva.nl](mailto:s.a.broda@uva.nl)\n",
    "* Slides, code, etc. will be made available through [Blackboard](https://blackboard.uva.nl) and/or https://github.com/s-broda/ComputationalFinance.\n",
    "* Format of this course: 12 lectures of 2h each (2 per week).\n",
    "* Final grade based on a digital exam (65%, 3h, open book) and homework assignments (35%, groups of 2)."
   ]
  },
  {
   "cell_type": "markdown",
   "metadata": {
    "slideshow": {
     "slide_type": "slide"
    }
   },
   "source": [
    "## Books\n",
    "\n",
    "* Yves Hilpisch. Python for Finance: Analyze Big Financial Data. O’Reilly, 2014. ISBN 978-1-4919-4528-5 (603 pages, c. EUR 31).\n",
    "* Yves Hilpisch. Derivatives Analytics with Python: Data Analysis, Models, Simulation, Calibration and Hedging. John Wiley & Sons, 2015. ISBN 978-1-1190-3799-6 (376 pages, c. EUR 75)."
   ]
  },
  {
   "cell_type": "markdown",
   "metadata": {
    "slideshow": {
     "slide_type": "slide"
    }
   },
   "source": [
    "## Reading List\n",
    "\n",
    "* Week 1:\n",
    "* Week 2:\n",
    "* Week 3:\n",
    "* Week 4:\n",
    "* Week 5:\n",
    "* Week 6:"
   ]
  },
  {
   "cell_type": "markdown",
   "metadata": {
    "collapsed": true,
    "slideshow": {
     "slide_type": "slide"
    }
   },
   "source": [
    "## Why Python?\n",
    "* General purpose programming language, unlike, e.g., Matlab.\n",
    "* High-level language with simple syntax, interactive (*REPL*: read-eval-print loop). Hence ideal for rapid development.\n",
    "* Vast array of libraries available, including for scientific computing and finance.\n",
    "* Native Python is usually slower than compiled low-level languages such as Fortran or C. Alleviated by highly optimized libraries, e.g. NumPy for calculations with arrays (common in science/finance).\n",
    "* Free and open source software. Cross-platform.\n",
    "* Python skills are a marketable asset: most popular language for data science."
   ]
  },
  {
   "cell_type": "markdown",
   "metadata": {
    "slideshow": {
     "slide_type": "slide"
    }
   },
   "source": [
    "### Job Postings on Indeed.com\n",
    "<img src=\"trends0.png\" alt=\"Job Postings on Indeed.com\" style=\"display:block; margin-left: auto; margin-right: auto;width: 700px;\"/>\n",
    "[Source](https://www.ibm.com/developerworks/community/blogs/jfp/entry/What_Language_Is_Best_For_Machine_Learning_And_Data_Science?lang=en)"
   ]
  },
  {
   "cell_type": "markdown",
   "metadata": {
    "slideshow": {
     "slide_type": "slide"
    }
   },
   "source": [
    "## Obtaining Python\n",
    "* Anaconda is a Python distribution, developed by Continuum Analytics, and specifically designed for scientific computing.\n",
    "* Comes with its own package manager (conda). Many important packages (the *SciPy stack*) are pre-installed. \n",
    "* Two versions: Python 2.7 and 3.6. Like the book, we will be using Python 2.7, which is still the industry standard.\n",
    "* Obtain it from https://www.anaconda.com/download/. I recommend adding it to your PATH upon installation.\n",
    "* *Optional*: install RISE plugin: <tt> conda install -c damianavila82 rise <tt>"
   ]
  },
  {
   "cell_type": "markdown",
   "metadata": {
    "slideshow": {
     "slide_type": "slide"
    }
   },
   "source": [
    "## IPython Shell\n",
    "* Python features a *read-eval-print loop* (REPL) which allows you to interact with it.\n",
    "* The most bare-bones way to interact with it is via the *IPython shell*:\n",
    "<img src=\"ipython.png\" alt=\"IPython Shell\" style=\"display:block; margin-left: auto; margin-right: auto;width: 500px;\"/>\n",
    "* For now you can treat it like a fancy calculater. Try entering <tt>2+2</tt>. Use <tt>quit</tt> or <tt>exit</tt> to quit."
   ]
  },
  {
   "cell_type": "markdown",
   "metadata": {
    "slideshow": {
     "slide_type": "slide"
    }
   },
   "source": [
    "## Writing Python Programs\n",
    "* A Python program (called a *script* or a *module* is just a text file, typically with the file extension <tt>.py</tt>.\n",
    "* While it's possible to code Python using just the REPL and a text editor, many people prefer to use an *integrated development environment* (IDE)\n",
    "* Anaconda comes with an IDE called *Spyder* (Scientific PYthon Development EnviRonment), which integrates an editor, an IPython shell, and other useful tools."
   ]
  },
  {
   "cell_type": "markdown",
   "metadata": {},
   "source": [
    "<img src=\"spyder.png\" alt=\"Spyder IDE\" style=\"display:block; margin-left: auto; margin-right: auto;width: 500px;\"/>\n",
    "A screenshot of spyder running a program computing 2+2. Note the print statement to show the output! In interactive mode, use semicolons behind statements ."
   ]
  },
  {
   "cell_type": "markdown",
   "metadata": {
    "slideshow": {
     "slide_type": "slide"
    }
   },
   "source": [
    "## Jupyter Notebooks\n",
    "* Another option is the *Jupyter notebook* (JUlia PYThon (e) R, formerly known as IPython notebook). \n",
    "* A Jupyter notebook is a web app that allows you to create and share documents that contain text (formatted in [Markdown](https://daringfireball.net/projects/markdown), live code, equations (formatted in $\\LaTeX$), and visualizations.\n",
    "* In fact these very slides are based on Jupyter notebooks. You can find them on my Github page: https://github.com/s-broda/ComputationalFinance\n",
    "* Jupyter notebooks have the file extension <tt>.ipynb</tt>. After downloading, open them in Jupyter using the built-in file browser.\n",
    "* The slides are also available on my Microsoft Azure page (https://notebooks.azure.com/s-broda/libraries/ComputationalFinance), where you can also see them as a slide show and/or run them (after cloning them; requires a free Microsoft account).\n"
   ]
  },
  {
   "cell_type": "markdown",
   "metadata": {
    "slideshow": {
     "slide_type": "slide"
    }
   },
   "source": [
    "<img src=\"jupyter.png\" alt=\"A Jupyter Notebook\" style=\"display:block; margin-left: auto; margin-right: auto;width: 700px;\"/>"
   ]
  },
  {
   "cell_type": "markdown",
   "metadata": {
    "slideshow": {
     "slide_type": "slide"
    }
   },
   "source": [
    "* A notebook consists of cells, each of which is either designated as Mardown (for text and equations), or as code.\n",
    "* You should take a moment to familiarize yourself with the keyboad shortcuts. E.g., <tt>enter</tt> enters edit mode, <tt>esc</tt> enters command mode, <tt>ctrl-enter</tt> evaluates a cell, <tt>shift-enter</tt> evaluates a cell and selects the one below.\n",
    "* Useful references:\n",
    "   * [Jupyter documentation](http://jupyter-notebook.readthedocs.io/en/latest/index.html)\n",
    "   * [Markdown cheat sheet](https://github.com/adam-p/markdown-here/wiki/Markdown-Cheatsheet)\n",
    "   * [Latex math cheat sheet](https://en.wikibooks.org/wiki/LaTeX/Mathematics)"
   ]
  },
  {
   "cell_type": "markdown",
   "metadata": {
    "slideshow": {
     "slide_type": "slide"
    }
   },
   "source": [
    "## IPython Magic"
   ]
  },
  {
   "cell_type": "code",
   "execution_count": 3,
   "metadata": {
    "slideshow": {
     "slide_type": "slide"
    }
   },
   "outputs": [
    {
     "data": {
      "text/plain": [
       "[<matplotlib.lines.Line2D at 0x7fe44b156850>]"
      ]
     },
     "execution_count": 3,
     "metadata": {},
     "output_type": "execute_result"
    },
    {
     "data": {
      "image/png": "[encoded data removed]",
      "text/plain": [
       "<matplotlib.figure.Figure at 0x7fe44b1d3410>"
      ]
     },
     "metadata": {},
     "output_type": "display_data"
    }
   ],
   "source": [
    "import matplotlib.pyplot as plt\n",
    "%matplotlib inline\n",
    "plt.plot([1,2,3,4,5,4,3,2,1])"
   ]
  },
  {
   "cell_type": "code",
   "execution_count": null,
   "metadata": {
    "collapsed": true
   },
   "outputs": [],
   "source": []
  }
 ],
 "metadata": {
  "celltoolbar": "Slideshow",
  "kernelspec": {
   "display_name": "Python 2",
   "language": "python",
   "name": "python2"
  },
  "language_info": {
   "codemirror_mode": {
    "name": "ipython",
    "version": 2
   },
   "file_extension": ".py",
   "mimetype": "text/x-python",
   "name": "python",
   "nbconvert_exporter": "python",
   "pygments_lexer": "ipython2",
   "version": "2.7.13"
  }
 },
 "nbformat": 4,
 "nbformat_minor": 2
}
