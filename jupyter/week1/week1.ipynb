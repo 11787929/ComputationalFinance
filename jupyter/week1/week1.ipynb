{
 "cells": [
  {
   "cell_type": "markdown",
   "metadata": {
    "slideshow": {
     "slide_type": "slide"
    }
   },
   "source": [
    "<p style=\"text-align: center; font-size: 300%\"> Computational Finance HA </p>\n",
    "<p> <img src=\"ABSlogo.png\" alt=\"LOGO\" align=\"middle\"> </p>"
   ]
  },
  {
   "cell_type": "markdown",
   "metadata": {
    "slideshow": {
     "slide_type": "slide"
    }
   },
   "source": [
    "# Preliminaries\n",
    "\n",
    "## General Information\n",
    "\n",
    "* My name is Simon Broda. You can find me at REC E4.27 (by appointment). Email:[s.a.broda@uva.nl](mailto:s.a.broda@uva.nl)\n",
    "* Slides, code, etc. will be made available through [Blackboard](https://blackboard.uva.nl) and/or https://github.com/s-broda/ComputationalFinance.\n",
    "* Format of this course: 12 lectures of 2h each (2 per week).\n",
    "* Final grade based on a digital exam (65\\%, 3h, open book) and homework assignments (35\\%, groups of 2)."
   ]
  },
  {
   "cell_type": "markdown",
   "metadata": {
    "slideshow": {
     "slide_type": "slide"
    }
   },
   "source": [
    "## Books\n",
    "\n",
    "* Yves Hilpisch. Python for Finance: Analyze Big Financial Data. O’Reilly, 2014. ISBN 978-1-4919-4528-5 (603 pages, c. EUR 31)\n",
    "* Yves Hilpisch. Derivatives Analytics with Python: Data Analysis, Models, Simulation, Calibration and Hedging. John Wiley & Sons, 2015. ISBN 978-1-1190-3799-6 (376 pages. c. EUR 75)"
   ]
  },
  {
   "cell_type": "markdown",
   "metadata": {
    "slideshow": {
     "slide_type": "slide"
    }
   },
   "source": [
    "## Reading List"
   ]
  },
  {
   "cell_type": "markdown",
   "metadata": {
    "collapsed": true,
    "slideshow": {
     "slide_type": "slide"
    }
   },
   "source": [
    "## Why Python?\n",
    "* General purpose programming language, unlike, e.g., Matlab.\n",
    "* High-level language with simple syntax, interactive (*REPL*: read-eval-print loop). Hence ideal for rapid development.\n",
    "* Vast array of libraries available, including for scientific computing and financial applications.\n",
    "* Native Python is usually slower than compiled low-level languages such as Fortran or C. Alleviated by highly optimized libraries, e.g. NumPy for calculations with arrays (common in science/finance).\n",
    "* Free and open source software. Cross-platform, including Windows, Mac OS, and Linux.\n",
    "* Python skills are a marketable asset: most popular language for data science (see next slide)."
   ]
  },
  {
   "cell_type": "markdown",
   "metadata": {
    "slideshow": {
     "slide_type": "slide"
    }
   },
   "source": [
    "### Job Postings on Indeed.com\n",
    "![Job Postings on Indeed.com](trends0.png)\n",
    "[Source](https://www.ibm.com/developerworks/community/blogs/jfp/entry/What_Language_Is_Best_For_Machine_Learning_And_Data_Science?lang=en)"
   ]
  },
  {
   "cell_type": "markdown",
   "metadata": {
    "slideshow": {
     "slide_type": "slide"
    }
   },
   "source": [
    "## Obtaining Python\n",
    "* Anaconda is a Python distribution, developed by Continuum Analytics, and specifically designed for scientific computing.\n",
    "* Comes with its own package manager (conda). Many important packages (the *SciPy stack*) are pre-installed. \n",
    "* Two versions: Python 2.7 and 3.6. Like the book, we will be using Python 2.7, which is still the industry standard.\n",
    "* Obtain it from https://www.anaconda.com/download/}{https://www.anaconda.com/download/."
   ]
  }
 ],
 "metadata": {
  "celltoolbar": "Slideshow",
  "kernelspec": {
   "display_name": "Python 2",
   "language": "python",
   "name": "python2"
  },
  "language_info": {
   "codemirror_mode": {
    "name": "ipython",
    "version": 3
   },
   "file_extension": ".py",
   "mimetype": "text/x-python",
   "name": "python",
   "nbconvert_exporter": "python",
   "pygments_lexer": "ipython3",
   "version": "3.6.1"
  }
 },
 "nbformat": 4,
 "nbformat_minor": 2
}
