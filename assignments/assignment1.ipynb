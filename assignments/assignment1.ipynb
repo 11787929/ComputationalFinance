{
 "cells": [
  {
   "cell_type": "markdown",
   "metadata": {},
   "source": [
    "# Assignment 1: Testing the CAPM\n",
    "\n",
    "The CAPM implies that\n",
    "\\begin{equation*}\n",
    "E(R_{i}-R_{f})=\\beta _{i}E(R_{m}-R_{f}),\\qquad \\beta _{i}=\\frac{\\mathrm{cov}%\n",
    "(R_{i},R_{m})}{\\mathrm{var}(R_{m})},\n",
    "\\end{equation*}\n",
    "\n",
    "where $R_i$ is the return on a stock, and $R_m$ is the market return. Suppose we have time series on $n$ different stock or portfolio returns $\\{R_{it},i=1,\\ldots ,n\\}_{t=1}^{T}$ and on a \"market return\" (value weighted index) $\\{R_{mt}\\}_{t=1}^{T}$.  We also have observations on a risk-free interest rate $\\{R_{ft}\\}_{t=1}^{T}$ and construct with these the excess returns $r_{it}=R_{it}-R_{ft}$ and $r_{mt}=R_{mt}-R_{ft}$. Now $\\beta_i$ can be estimated from the time-series regression \\begin{equation*}\n",
    "r_{it}=\\alpha _{i}+\\beta _{i}r_{mt}+\\varepsilon _{it},\\qquad t=1,\\ldots ,T.\n",
    "\\end{equation*}\n",
    "\n",
    "One way to test the CAPM is as follows: denote by $\\bar{r}_{i}$\n",
    "and $\\hat{\\beta}_{i}$ the average excess return and estimated $\\beta$ of stock $i$. If the model $E(r_{i})=\\beta_{i}E(r_{m})$ is valid, then $(\\hat{\\beta}_{i},\\bar{r}_{i})$ should lie on a line with zero intercept and slope $\\lambda =E(r_{mt})$. This line is called the *security market line*, and $\\lambda$ is known as the *market risk premium*.\n",
    "\n",
    "We can estimate $\\lambda $ by OLS in the cross-section regression\n",
    "\\begin{equation*}\n",
    "\\bar{r}_{i}=\\lambda \\hat{\\beta}_{i}+\\alpha _{i},\\qquad i=1,\\ldots ,n.\n",
    "\\end{equation*}\n",
    "Note that $\\hat{\\beta_i}$ is the regressor, $\\lambda$ the coefficient, and $\\alpha_i$ the error term.\n",
    "\n",
    "The assignment is to estimate the CAPM betas of the 30 constituent stocks of the Dow (using the return on the Dow as the market return, and the 3 month T-bill rate as the risk-free rate), then estimate the above cross-section regression, and finally make a plot of the security market line superimposed on a scatter plot of $(\\hat{\\beta}_{i},\\bar{r}_{i})$."
   ]
  },
  {
   "cell_type": "markdown",
   "metadata": {},
   "source": [
    "**Import the relevant libraries**:"
   ]
  },
  {
   "cell_type": "code",
   "execution_count": 1,
   "metadata": {
    "collapsed": true,
    "scrolled": true
   },
   "outputs": [],
   "source": []
  },
  {
   "cell_type": "markdown",
   "metadata": {},
   "source": [
    "**Obtain, from Yahoo Finance, the daily adjusted closing prices on the Dow (^DJI) from 1/1/2010 to today. Convert them into percentage log returns $r_t=100\\log(P_t/P_{t-1})$ and store them in a DataFrame `df`, which has the date as index and 'DJIA' as column name (not ^DJI; this creates a problem for the statsmodels package) **:"
   ]
  },
  {
   "cell_type": "code",
   "execution_count": null,
   "metadata": {},
   "outputs": [],
   "source": []
  },
  {
   "cell_type": "markdown",
   "metadata": {},
   "source": [
    "**Obtain, from the FRED database, daily data on the 3-month T-bill rate (DTB3) for the same period and divide them by 365**:"
   ]
  },
  {
   "cell_type": "code",
   "execution_count": null,
   "metadata": {
    "collapsed": true
   },
   "outputs": [],
   "source": []
  },
  {
   "cell_type": "markdown",
   "metadata": {},
   "source": [
    "**The list `tickers` below contains the ticker symbols of the 30 constituent stocks of the Dow. Obtain the adjusted closing prices for all of the (using a `for` loop), convert them into log returns, and store them in `df`, using the ticker as column name**:"
   ]
  },
  {
   "cell_type": "code",
   "execution_count": 4,
   "metadata": {
    "collapsed": true
   },
   "outputs": [],
   "source": [
    "tickers=[\"AXP\", \"AAPL\", \"BA\", \"CAT\", \"CSCO\", \"CVX\", \"XOM\", \"GE\", \"GS\", \"HD\", \"IBM\", \"INTC\", \"JNJ\", \"KO\", \"JPM\",\n",
    "          \"MCD\", \"MMM\", \"MRK\", \"MSFT\", \"NKE\", \"PFE\", \"PG\", \"TRV\", \"UNH\", \"UTX\", \"VZ\", \"V\", \"WMT\", \"DIS\", \"DWDP\" ]"
   ]
  },
  {
   "cell_type": "code",
   "execution_count": null,
   "metadata": {
    "collapsed": true
   },
   "outputs": [],
   "source": []
  },
  {
   "cell_type": "markdown",
   "metadata": {},
   "source": [
    "**Convert the raw returns in `df` to excess returns by subtracting the T-bill rate from all columns:**"
   ]
  },
  {
   "cell_type": "code",
   "execution_count": null,
   "metadata": {
    "collapsed": true
   },
   "outputs": [],
   "source": []
  },
  {
   "cell_type": "markdown",
   "metadata": {},
   "source": [
    "**Drop all rows from `df` that contain at least one NaN**:"
   ]
  },
  {
   "cell_type": "code",
   "execution_count": null,
   "metadata": {
    "collapsed": true
   },
   "outputs": [],
   "source": []
  },
  {
   "cell_type": "markdown",
   "metadata": {},
   "source": [
    "**Use a `for` loop to estimate a CAPM time series regression for each stock, and store the estimated slope coefficient in a list**. Hint: use string interpolation to construct the regression equation."
   ]
  },
  {
   "cell_type": "code",
   "execution_count": null,
   "metadata": {
    "scrolled": true
   },
   "outputs": [],
   "source": []
  },
  {
   "cell_type": "markdown",
   "metadata": {},
   "source": [
    "**Create a new dataframe that has `tickers` as index, and two columns: `beta`, containing the 30 estimated betas, and `meanret`, containing the mean excess returns of the 30 stocks**:"
   ]
  },
  {
   "cell_type": "code",
   "execution_count": null,
   "metadata": {
    "collapsed": true
   },
   "outputs": [],
   "source": []
  },
  {
   "cell_type": "markdown",
   "metadata": {},
   "source": [
    "**Estimate the security market line by a cross-sectional regression (without intercept), and print a summary of the result**:"
   ]
  },
  {
   "cell_type": "code",
   "execution_count": null,
   "metadata": {},
   "outputs": [],
   "source": []
  },
  {
   "cell_type": "markdown",
   "metadata": {},
   "source": [
    "**Make a scatter plot of $(\\hat{\\beta}_{i},\\bar{r}_{i})$ and overlay it with a red regression line. Add a title and legend, and label the axes**:"
   ]
  },
  {
   "cell_type": "code",
   "execution_count": null,
   "metadata": {},
   "outputs": [],
   "source": []
  }
 ],
 "metadata": {
  "kernelspec": {
   "display_name": "Python 2",
   "language": "python",
   "name": "python2"
  },
  "language_info": {
   "codemirror_mode": {
    "name": "ipython",
    "version": 2
   },
   "file_extension": ".py",
   "mimetype": "text/x-python",
   "name": "python",
   "nbconvert_exporter": "python",
   "pygments_lexer": "ipython2",
   "version": "2.7.13"
  }
 },
 "nbformat": 4,
 "nbformat_minor": 2
}
